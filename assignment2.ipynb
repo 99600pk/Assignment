{
 "cells": [
  {
   "cell_type": "code",
   "execution_count": 1,
   "id": "4d125eca-c8cb-4dbc-800d-8492b6a49f7e",
   "metadata": {},
   "outputs": [],
   "source": [
    "## Q1 ]"
   ]
  },
  {
   "cell_type": "code",
   "execution_count": 2,
   "id": "1a517881-279c-4f63-a517-ad62559a273f",
   "metadata": {},
   "outputs": [
    {
     "name": "stdin",
     "output_type": "stream",
     "text": [
      "enter your marks 75\n"
     ]
    },
    {
     "name": "stdout",
     "output_type": "stream",
     "text": [
      "you got grade B\n"
     ]
    }
   ],
   "source": [
    "marks = int(input('enter your marks'))\n",
    "if marks > 90 :\n",
    "    print('you got grade A')\n",
    "elif marks > 80 or marks <= 90 :\n",
    "    print('you got grade B')\n",
    "elif marks >= 60 or marks <= 80 :\n",
    "    print('you got grade C')\n",
    "else :\n",
    "    print('you got grade D')"
   ]
  },
  {
   "cell_type": "code",
   "execution_count": 3,
   "id": "807dcfcc-c348-4584-992a-092113686c4b",
   "metadata": {},
   "outputs": [],
   "source": [
    "## Q2 ]"
   ]
  },
  {
   "cell_type": "code",
   "execution_count": 2,
   "id": "fed3c739-5c4c-4926-a9f2-69410c8b0219",
   "metadata": {},
   "outputs": [
    {
     "name": "stdin",
     "output_type": "stream",
     "text": [
      "enter price of your bike 60000\n"
     ]
    },
    {
     "name": "stdout",
     "output_type": "stream",
     "text": [
      "your road tax is  6000.0\n"
     ]
    }
   ],
   "source": [
    "cost_price = int(input(\"enter price of your bike\"))\n",
    "\n",
    "if cost_price > 100000 :\n",
    "    print('your road tax is  ' + str(0.15*cost_price))\n",
    "elif cost_price > 50000 and cost_price <= 100000 :\n",
    "    print('your road tax is  ' + str(0.10*cost_price))\n",
    "elif  cost_price <= 50000 :\n",
    "     print('your road tax is  ' + str(0.05*cost_price))"
   ]
  },
  {
   "cell_type": "code",
   "execution_count": 5,
   "id": "38a7f88b-3011-4260-884f-906921f96acf",
   "metadata": {},
   "outputs": [],
   "source": [
    "## Q3] "
   ]
  },
  {
   "cell_type": "code",
   "execution_count": 6,
   "id": "a03446bb-ab9d-48a2-b5a2-eb06f4d68584",
   "metadata": {},
   "outputs": [
    {
     "name": "stdin",
     "output_type": "stream",
     "text": [
      "enter name of the city from [delhi , agra , jaipur] agra\n"
     ]
    },
    {
     "name": "stdout",
     "output_type": "stream",
     "text": [
      "taj mahal\n"
     ]
    }
   ],
   "source": [
    "city = input('enter name of the city from [delhi , agra , jaipur]')\n",
    "if city == 'delhi':\n",
    "    print('red fort')\n",
    "elif city == 'agra' :\n",
    "    print('taj mahal')\n",
    "elif city == 'jaipur' :\n",
    "    print('jal mahal')"
   ]
  },
  {
   "cell_type": "code",
   "execution_count": 7,
   "id": "069b4f12-b805-4493-9829-9f73d362504e",
   "metadata": {},
   "outputs": [],
   "source": [
    "## Q4]"
   ]
  },
  {
   "cell_type": "code",
   "execution_count": 1,
   "id": "326bb16f-5774-4897-8459-874fb851b6de",
   "metadata": {},
   "outputs": [
    {
     "name": "stdin",
     "output_type": "stream",
     "text": [
      "enter your number 10\n"
     ]
    },
    {
     "name": "stdout",
     "output_type": "stream",
     "text": [
      "3\n"
     ]
    }
   ],
   "source": [
    "i = int(input('enter your number'))\n",
    "while i <= 10 :\n",
    "    print(int(i/3))\n",
    "    break"
   ]
  },
  {
   "cell_type": "code",
   "execution_count": 9,
   "id": "96282b10-5e56-4570-b476-a46a26ca80dd",
   "metadata": {},
   "outputs": [],
   "source": [
    "## Q5]"
   ]
  },
  {
   "cell_type": "code",
   "execution_count": 10,
   "id": "e20d839c-4f56-4f5f-b15d-6e371d1ddfc4",
   "metadata": {},
   "outputs": [
    {
     "name": "stdin",
     "output_type": "stream",
     "text": [
      "enter your number 5\n"
     ]
    },
    {
     "name": "stdout",
     "output_type": "stream",
     "text": [
      "0\n",
      "1\n",
      "4\n",
      "9\n",
      "16\n",
      "25\n"
     ]
    }
   ],
   "source": [
    "target = int(input(\"enter your number\"))\n",
    "i = 0\n",
    "while i <= target :\n",
    "    print(i**2)\n",
    "    i = i + 1"
   ]
  },
  {
   "cell_type": "code",
   "execution_count": 11,
   "id": "8d1283bd-1282-450a-833e-520b4e77018e",
   "metadata": {},
   "outputs": [],
   "source": [
    "## Q6]"
   ]
  },
  {
   "cell_type": "code",
   "execution_count": 7,
   "id": "77605104-21e5-482b-a996-134f7dbf21f0",
   "metadata": {},
   "outputs": [
    {
     "name": "stdout",
     "output_type": "stream",
     "text": [
      "*****\n",
      "*****\n",
      "*****\n",
      "*****\n",
      "*****\n"
     ]
    }
   ],
   "source": [
    "i = 1\n",
    "while i <= 5:\n",
    "        j = 1\n",
    "        while j <= 5:\n",
    "            print('*' , end='')\n",
    "            j = j+1\n",
    "        print()\n",
    "        i = i+1"
   ]
  },
  {
   "cell_type": "code",
   "execution_count": 13,
   "id": "ed3c263d-5030-4ea1-a0fb-ac5c216471c0",
   "metadata": {},
   "outputs": [
    {
     "name": "stdout",
     "output_type": "stream",
     "text": [
      "*\n",
      "**\n",
      "***\n",
      "****\n",
      "*****\n"
     ]
    }
   ],
   "source": [
    "i = 1\n",
    "while i <= 5:\n",
    "        j = 1\n",
    "        while j <= i:\n",
    "            print('*' , end='')\n",
    "            j = j+1\n",
    "        print()\n",
    "        i = i+1"
   ]
  },
  {
   "cell_type": "code",
   "execution_count": 9,
   "id": "32f3e148-c92a-476b-8045-de3880a7b4fa",
   "metadata": {},
   "outputs": [
    {
     "name": "stdout",
     "output_type": "stream",
     "text": [
      "*****\n",
      "****\n",
      "***\n",
      "**\n",
      "*\n"
     ]
    }
   ],
   "source": [
    "i = 1\n",
    "while i <= 5:\n",
    "        j = 1\n",
    "        while j <=6-i:\n",
    "            print('*' , end='')\n",
    "            j = j+1\n",
    "        print()\n",
    "        i = i+1"
   ]
  },
  {
   "cell_type": "code",
   "execution_count": 15,
   "id": "5158465f-9485-4a99-be50-8c27ca15fbff",
   "metadata": {},
   "outputs": [],
   "source": [
    "## Q7]"
   ]
  },
  {
   "cell_type": "code",
   "execution_count": 16,
   "id": "7b89fc05-92e7-4e53-a326-561a325aba58",
   "metadata": {},
   "outputs": [
    {
     "name": "stdout",
     "output_type": "stream",
     "text": [
      "10\n",
      "9\n",
      "8\n",
      "7\n",
      "6\n",
      "5\n",
      "4\n",
      "3\n",
      "2\n",
      "1\n"
     ]
    }
   ],
   "source": [
    "i = 10\n",
    "while i > 0:\n",
    "    print(i)\n",
    "    i=i-1"
   ]
  },
  {
   "cell_type": "code",
   "execution_count": 17,
   "id": "07587ee7-9d64-470a-8f30-50b724d5eafc",
   "metadata": {},
   "outputs": [],
   "source": [
    "## Q7]"
   ]
  },
  {
   "cell_type": "code",
   "execution_count": 18,
   "id": "457fa478-08d5-4952-aff2-3845dbfa6af5",
   "metadata": {},
   "outputs": [
    {
     "name": "stdout",
     "output_type": "stream",
     "text": [
      "10\n",
      "9\n",
      "8\n",
      "7\n",
      "6\n",
      "5\n",
      "4\n",
      "3\n",
      "2\n",
      "1\n"
     ]
    }
   ],
   "source": [
    "i = 10\n",
    "while i > 0:\n",
    "    print(i)\n",
    "    i=i-1\n",
    "\n"
   ]
  },
  {
   "cell_type": "code",
   "execution_count": null,
   "id": "c08af4b7-6d4f-4f1c-9e76-2a0266beff3c",
   "metadata": {},
   "outputs": [],
   "source": []
  }
 ],
 "metadata": {
  "kernelspec": {
   "display_name": "Python 3 (ipykernel)",
   "language": "python",
   "name": "python3"
  },
  "language_info": {
   "codemirror_mode": {
    "name": "ipython",
    "version": 3
   },
   "file_extension": ".py",
   "mimetype": "text/x-python",
   "name": "python",
   "nbconvert_exporter": "python",
   "pygments_lexer": "ipython3",
   "version": "3.10.8"
  }
 },
 "nbformat": 4,
 "nbformat_minor": 5
}
