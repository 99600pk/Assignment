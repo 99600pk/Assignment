{
 "cells": [
  {
   "cell_type": "code",
   "execution_count": null,
   "id": "122aa98b-f411-4030-aa1c-2688a207e79e",
   "metadata": {},
   "outputs": [],
   "source": [
    "Q1] who developed python programming language ?\n",
    "Ans] Guido van Rossum  developed the python programming language.\n",
    "\n",
    "Q2] which type of programming does python support?\n",
    "Ans] python supports all type of programming launguage for eg. object oriented,\n",
    "     structered programming, functional programming\n",
    "\n",
    "Q3] is python case-sensitive while dealing with identifiers ? \n",
    "Ans] yes,python is case sensitive as it treats uppercase and lowercase data differently.\n",
    "\n",
    "Q4] what is the correct extension of python file ? \n",
    "Ans] .py is the extension of any python file.\n",
    "\n",
    "Q 5] is python code compiled or interpreted ?\n",
    "ans] python is an interpreted language because it executes code line by line.\n",
    "\n",
    "Q 6] name few blocks of code used to define in python language ?\n",
    "ans] {} , () , [] these are some blocks which are used in python.\n",
    "\n",
    "Q 7] state a character used to give single line comments in python ?\n",
    "ans] '#'or / is used to give single line comments.\n",
    "\n",
    "Q 8] mention fuctions which can help us to find the version of python that currently we are working on ?\n",
    "Qns] the function sys.version helps us to find the version of python .\n",
    "\n",
    "Q 9] python supports the creation of ananymous function at runtime using a construct called ?\n",
    "ans] lambda .\n",
    "\n",
    "Q 10] what does pip stand for python ? \n",
    "ans] pip stands for preferred installer programme .\n",
    "\n",
    "Q 11] mention a few built in functions in python ?\n",
    "ans] print() , type() , input(), len() , etc\n",
    "\n",
    "Q 12] what is the maximum possible length of identifier in python ? \n",
    "ans] 79 is the maximum possible length of identifier .\n",
    "\n",
    "Q 13] what are the benefits of using python ? \n",
    "ans] easy to learn , many libraries avilable which makes programming easy , used in data science,\n",
    "     speedy operation.\n",
    "\n",
    "Q 14] how is memory managed in python ?\n",
    "ans] memory is managed in python using python memory manager which stores data in objects form \n",
    "     internally and object allocator geta a call each time objects needs space .\n",
    "\n",
    "Q 15] how to install python in windows and set path variables ?\n",
    "ans] right click on this pc + properties + advanced system settings + environmental variables\n",
    "\n",
    "Q 16] is indentation required in python ? \n",
    "ans] yes indentation are very much important in python.\n",
    "\n"
   ]
  }
 ],
 "metadata": {
  "kernelspec": {
   "display_name": "Python 3 (ipykernel)",
   "language": "python",
   "name": "python3"
  },
  "language_info": {
   "codemirror_mode": {
    "name": "ipython",
    "version": 3
   },
   "file_extension": ".py",
   "mimetype": "text/x-python",
   "name": "python",
   "nbconvert_exporter": "python",
   "pygments_lexer": "ipython3",
   "version": "3.10.8"
  }
 },
 "nbformat": 4,
 "nbformat_minor": 5
}
